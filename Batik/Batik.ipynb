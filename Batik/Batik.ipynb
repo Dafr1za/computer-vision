{
  "nbformat": 4,
  "nbformat_minor": 0,
  "metadata": {
    "colab": {
      "name": "Salinan dari neural_network.ipynb",
      "provenance": [],
      "collapsed_sections": [],
      "include_colab_link": true
    },
    "kernelspec": {
      "name": "python3",
      "display_name": "Python 3"
    },
    "language_info": {
      "name": "python"
    }
  },
  "cells": [
    {
      "cell_type": "markdown",
      "metadata": {
        "id": "view-in-github",
        "colab_type": "text"
      },
      "source": [
        "<a href=\"https://colab.research.google.com/github/Dafr1za/computer-vision/blob/main/Batik/Batik.ipynb\" target=\"_parent\"><img src=\"https://colab.research.google.com/assets/colab-badge.svg\" alt=\"Open In Colab\"/></a>"
      ]
    },
    {
      "cell_type": "code",
      "metadata": {
        "colab": {
          "base_uri": "https://localhost:8080/"
        },
        "id": "HbEtzsONCbXH",
        "outputId": "8a3bdebe-803a-4800-8b99-a88c39150c38"
      },
      "source": [
        "# Download dataset\n",
        "!wget --no-check-certificate \\\n",
        "    https://drive.google.com/file/d/1qFtbQzNZTlL-d9wSwrB5DjDZKFTYLdZ0/view?usp=sharing \\\n",
        "    -O /tmp/Batik.zip"
      ],
      "execution_count": null,
      "outputs": [
        {
          "output_type": "stream",
          "name": "stdout",
          "text": [
            "--2021-12-31 05:48:04--  https://drive.google.com/file/d/1qFtbQzNZTlL-d9wSwrB5DjDZKFTYLdZ0/view?usp=sharing\n",
            "Resolving drive.google.com (drive.google.com)... 173.194.210.113, 173.194.210.102, 173.194.210.138, ...\n",
            "Connecting to drive.google.com (drive.google.com)|173.194.210.113|:443... connected.\n",
            "HTTP request sent, awaiting response... 200 OK\n",
            "Length: unspecified [text/html]\n",
            "Saving to: ‘/tmp/Batik.zip’\n",
            "\n",
            "/tmp/Batik.zip          [ <=>                ]  65.18K  --.-KB/s    in 0.003s  \n",
            "\n",
            "2021-12-31 05:48:05 (25.0 MB/s) - ‘/tmp/Batik.zip’ saved [66744]\n",
            "\n"
          ]
        }
      ]
    },
    {
      "cell_type": "code",
      "metadata": {
        "id": "lEbqHHtWCcZi",
        "colab": {
          "base_uri": "https://localhost:8080/",
          "height": 380
        },
        "outputId": "bb79aa3d-a778-422f-d22b-ba14a9fef0ee"
      },
      "source": [
        "import os\n",
        "import zipfile\n",
        "from google.colab import drive\n",
        "\n",
        "drive.mount('/content/drive/')\n",
        "\n",
        "zip_ref = zipfile.ZipFile(\"/content/drive/My Drive/Colab Notebooks/Batik.zip\", 'r')\n",
        "zip_ref.extractall(\"/tmp\")\n",
        "zip_ref.close()"
      ],
      "execution_count": null,
      "outputs": [
        {
          "output_type": "error",
          "ename": "MessageError",
          "evalue": "ignored",
          "traceback": [
            "\u001b[0;31m---------------------------------------------------------------------------\u001b[0m",
            "\u001b[0;31mMessageError\u001b[0m                              Traceback (most recent call last)",
            "\u001b[0;32m<ipython-input-7-ecf96d959539>\u001b[0m in \u001b[0;36m<module>\u001b[0;34m()\u001b[0m\n\u001b[1;32m      3\u001b[0m \u001b[0;32mfrom\u001b[0m \u001b[0mgoogle\u001b[0m\u001b[0;34m.\u001b[0m\u001b[0mcolab\u001b[0m \u001b[0;32mimport\u001b[0m \u001b[0mdrive\u001b[0m\u001b[0;34m\u001b[0m\u001b[0;34m\u001b[0m\u001b[0m\n\u001b[1;32m      4\u001b[0m \u001b[0;34m\u001b[0m\u001b[0m\n\u001b[0;32m----> 5\u001b[0;31m \u001b[0mdrive\u001b[0m\u001b[0;34m.\u001b[0m\u001b[0mmount\u001b[0m\u001b[0;34m(\u001b[0m\u001b[0;34m'/content/drive/'\u001b[0m\u001b[0;34m)\u001b[0m\u001b[0;34m\u001b[0m\u001b[0;34m\u001b[0m\u001b[0m\n\u001b[0m\u001b[1;32m      6\u001b[0m \u001b[0;34m\u001b[0m\u001b[0m\n\u001b[1;32m      7\u001b[0m \u001b[0mzip_ref\u001b[0m \u001b[0;34m=\u001b[0m \u001b[0mzipfile\u001b[0m\u001b[0;34m.\u001b[0m\u001b[0mZipFile\u001b[0m\u001b[0;34m(\u001b[0m\u001b[0;34m\"/content/drive/My Drive/Colab Notebooks/Batik.zip\"\u001b[0m\u001b[0;34m,\u001b[0m \u001b[0;34m'r'\u001b[0m\u001b[0;34m)\u001b[0m\u001b[0;34m\u001b[0m\u001b[0;34m\u001b[0m\u001b[0m\n",
            "\u001b[0;32m/usr/local/lib/python3.7/dist-packages/google/colab/drive.py\u001b[0m in \u001b[0;36mmount\u001b[0;34m(mountpoint, force_remount, timeout_ms, use_metadata_server)\u001b[0m\n\u001b[1;32m    111\u001b[0m       \u001b[0mtimeout_ms\u001b[0m\u001b[0;34m=\u001b[0m\u001b[0mtimeout_ms\u001b[0m\u001b[0;34m,\u001b[0m\u001b[0;34m\u001b[0m\u001b[0;34m\u001b[0m\u001b[0m\n\u001b[1;32m    112\u001b[0m       \u001b[0muse_metadata_server\u001b[0m\u001b[0;34m=\u001b[0m\u001b[0muse_metadata_server\u001b[0m\u001b[0;34m,\u001b[0m\u001b[0;34m\u001b[0m\u001b[0;34m\u001b[0m\u001b[0m\n\u001b[0;32m--> 113\u001b[0;31m       ephemeral=ephemeral)\n\u001b[0m\u001b[1;32m    114\u001b[0m \u001b[0;34m\u001b[0m\u001b[0m\n\u001b[1;32m    115\u001b[0m \u001b[0;34m\u001b[0m\u001b[0m\n",
            "\u001b[0;32m/usr/local/lib/python3.7/dist-packages/google/colab/drive.py\u001b[0m in \u001b[0;36m_mount\u001b[0;34m(mountpoint, force_remount, timeout_ms, use_metadata_server, ephemeral)\u001b[0m\n\u001b[1;32m    134\u001b[0m   \u001b[0;32mif\u001b[0m \u001b[0mephemeral\u001b[0m\u001b[0;34m:\u001b[0m\u001b[0;34m\u001b[0m\u001b[0;34m\u001b[0m\u001b[0m\n\u001b[1;32m    135\u001b[0m     _message.blocking_request(\n\u001b[0;32m--> 136\u001b[0;31m         'request_auth', request={'authType': 'dfs_ephemeral'}, timeout_sec=None)\n\u001b[0m\u001b[1;32m    137\u001b[0m \u001b[0;34m\u001b[0m\u001b[0m\n\u001b[1;32m    138\u001b[0m   \u001b[0mmountpoint\u001b[0m \u001b[0;34m=\u001b[0m \u001b[0m_os\u001b[0m\u001b[0;34m.\u001b[0m\u001b[0mpath\u001b[0m\u001b[0;34m.\u001b[0m\u001b[0mexpanduser\u001b[0m\u001b[0;34m(\u001b[0m\u001b[0mmountpoint\u001b[0m\u001b[0;34m)\u001b[0m\u001b[0;34m\u001b[0m\u001b[0;34m\u001b[0m\u001b[0m\n",
            "\u001b[0;32m/usr/local/lib/python3.7/dist-packages/google/colab/_message.py\u001b[0m in \u001b[0;36mblocking_request\u001b[0;34m(request_type, request, timeout_sec, parent)\u001b[0m\n\u001b[1;32m    173\u001b[0m   request_id = send_request(\n\u001b[1;32m    174\u001b[0m       request_type, request, parent=parent, expect_reply=True)\n\u001b[0;32m--> 175\u001b[0;31m   \u001b[0;32mreturn\u001b[0m \u001b[0mread_reply_from_input\u001b[0m\u001b[0;34m(\u001b[0m\u001b[0mrequest_id\u001b[0m\u001b[0;34m,\u001b[0m \u001b[0mtimeout_sec\u001b[0m\u001b[0;34m)\u001b[0m\u001b[0;34m\u001b[0m\u001b[0;34m\u001b[0m\u001b[0m\n\u001b[0m",
            "\u001b[0;32m/usr/local/lib/python3.7/dist-packages/google/colab/_message.py\u001b[0m in \u001b[0;36mread_reply_from_input\u001b[0;34m(message_id, timeout_sec)\u001b[0m\n\u001b[1;32m    104\u001b[0m         reply.get('colab_msg_id') == message_id):\n\u001b[1;32m    105\u001b[0m       \u001b[0;32mif\u001b[0m \u001b[0;34m'error'\u001b[0m \u001b[0;32min\u001b[0m \u001b[0mreply\u001b[0m\u001b[0;34m:\u001b[0m\u001b[0;34m\u001b[0m\u001b[0;34m\u001b[0m\u001b[0m\n\u001b[0;32m--> 106\u001b[0;31m         \u001b[0;32mraise\u001b[0m \u001b[0mMessageError\u001b[0m\u001b[0;34m(\u001b[0m\u001b[0mreply\u001b[0m\u001b[0;34m[\u001b[0m\u001b[0;34m'error'\u001b[0m\u001b[0;34m]\u001b[0m\u001b[0;34m)\u001b[0m\u001b[0;34m\u001b[0m\u001b[0;34m\u001b[0m\u001b[0m\n\u001b[0m\u001b[1;32m    107\u001b[0m       \u001b[0;32mreturn\u001b[0m \u001b[0mreply\u001b[0m\u001b[0;34m.\u001b[0m\u001b[0mget\u001b[0m\u001b[0;34m(\u001b[0m\u001b[0;34m'data'\u001b[0m\u001b[0;34m,\u001b[0m \u001b[0;32mNone\u001b[0m\u001b[0;34m)\u001b[0m\u001b[0;34m\u001b[0m\u001b[0;34m\u001b[0m\u001b[0m\n\u001b[1;32m    108\u001b[0m \u001b[0;34m\u001b[0m\u001b[0m\n",
            "\u001b[0;31mMessageError\u001b[0m: Error: credential propagation was unsuccessful"
          ]
        }
      ]
    },
    {
      "cell_type": "code",
      "metadata": {
        "id": "qTUcSDf2CeBY"
      },
      "source": [
        "base_dir = '/tmp/Batik'\n",
        "\n",
        "train_dir = os.path.join(base_dir, 'train')\n",
        "validation_dir = os.path.join(base_dir, 'validation')\n",
        "\n",
        "train_cats_dir = os.path.join(train_dir, 'batik-ceplok')\n",
        "train_dogs_dir = os.path.join(train_dir, 'batik-parang')\n",
        "\n",
        "validation_cats_dir = os.path.join(validation_dir, 'batik-ceplok')\n",
        "validation_dogs_dir = os.path.join(validation_dir, 'batik-parang')"
      ],
      "execution_count": null,
      "outputs": []
    },
    {
      "cell_type": "code",
      "metadata": {
        "colab": {
          "base_uri": "https://localhost:8080/"
        },
        "id": "4KUVPIfRCfw0",
        "outputId": "48327f48-a473-448b-e3cb-5a368d419cf7"
      },
      "source": [
        "# Cek penamaan image yang ada di folder train_cats_dir dan train_dogs_dir\n",
        "print(os.listdir(train_cats_dir)[:10])\n",
        "print(os.listdir(train_dogs_dir)[:10])"
      ],
      "execution_count": null,
      "outputs": [
        {
          "output_type": "stream",
          "name": "stdout",
          "text": [
            "['46.jpg', '9.jpg', '3.jpg', '25.jpg', '24.jpg', '7.jpg', '4.jpg', '29.jpg', '13.jpg', '38.jpg']\n",
            "['9.jpg', '16.jpg', '15.jpg', '3.jpg', '7.jpg', '4.jpg', '13.jpg', '21.jpg', '18.jpg', '2.jpg']\n"
          ]
        }
      ]
    },
    {
      "cell_type": "code",
      "metadata": {
        "colab": {
          "base_uri": "https://localhost:8080/"
        },
        "id": "dAsPl9g3Chr2",
        "outputId": "384eae0c-fa00-4349-fd45-04e3f10cb89d"
      },
      "source": [
        "# Cek jumlah data train dan data validation\n",
        "print('total training cat images:', len(os.listdir(train_cats_dir)))\n",
        "print('total training dog images:', len(os.listdir(train_dogs_dir)))\n",
        "print('total validation cat images:', len(os.listdir(validation_cats_dir)))\n",
        "print('total validation dog images:', len(os.listdir(validation_dogs_dir)))"
      ],
      "execution_count": null,
      "outputs": [
        {
          "output_type": "stream",
          "name": "stdout",
          "text": [
            "total training cat images: 21\n",
            "total training dog images: 20\n",
            "total validation cat images: 21\n",
            "total validation dog images: 20\n"
          ]
        }
      ]
    },
    {
      "cell_type": "code",
      "metadata": {
        "colab": {
          "base_uri": "https://localhost:8080/",
          "height": 252
        },
        "id": "fFVUUI8bCoAv",
        "outputId": "1f6c5435-c460-43d4-9f9d-09c5dcd00723"
      },
      "source": [
        "# Tampilkan 8 image per kelas dengan ukuran 4x4 \n",
        "\n",
        "%matplotlib inline\n",
        "\n",
        "import matplotlib.pyplot as plt\n",
        "import matplotlib.image as mpimg\n",
        "\n",
        "nrows = 4\n",
        "ncols = 4\n",
        "\n",
        "pic_index = 0\n",
        "\n",
        "fig = plt.gcf()\n",
        "fig.set_size_inches(ncols * 4, nrows * 4)\n",
        "\n",
        "pic_index += 8\n",
        "next_cat_pix = [os.path.join(train_cats_dir, fname) \n",
        "                for fname in os.listdir(train_cats_dir)[pic_index-8:pic_index]]\n",
        "next_dog_pix = [os.path.join(train_dogs_dir, fname) \n",
        "                for fname in os.listdir(train_dogs_dir)[pic_index-8:pic_index]]\n",
        "\n",
        "for i, img_path in enumerate(next_cat_pix+next_dog_pix):\n",
        "  # Set up subplot; subplot indices start at 1\n",
        "  sp = plt.subplot(nrows, ncols, i + 1)\n",
        "  sp.axis('Off') # Don't show axes (or gridlines)\n",
        "\n",
        "  img = mpimg.imread(img_path)\n",
        "  plt.imshow(img)\n",
        "\n",
        "plt.show()\n"
      ],
      "execution_count": null,
      "outputs": [
        {
          "output_type": "error",
          "ename": "NameError",
          "evalue": "ignored",
          "traceback": [
            "\u001b[0;31m---------------------------------------------------------------------------\u001b[0m",
            "\u001b[0;31mNameError\u001b[0m                                 Traceback (most recent call last)",
            "\u001b[0;32m<ipython-input-8-83bef0146054>\u001b[0m in \u001b[0;36m<module>\u001b[0;34m()\u001b[0m\n\u001b[1;32m     16\u001b[0m \u001b[0mpic_index\u001b[0m \u001b[0;34m+=\u001b[0m \u001b[0;36m8\u001b[0m\u001b[0;34m\u001b[0m\u001b[0;34m\u001b[0m\u001b[0m\n\u001b[1;32m     17\u001b[0m next_cat_pix = [os.path.join(train_cats_dir, fname) \n\u001b[0;32m---> 18\u001b[0;31m                 for fname in os.listdir(train_cats_dir)[pic_index-8:pic_index]]\n\u001b[0m\u001b[1;32m     19\u001b[0m next_dog_pix = [os.path.join(train_dogs_dir, fname) \n\u001b[1;32m     20\u001b[0m                 for fname in os.listdir(train_dogs_dir)[pic_index-8:pic_index]]\n",
            "\u001b[0;31mNameError\u001b[0m: name 'train_cats_dir' is not defined"
          ]
        },
        {
          "output_type": "display_data",
          "data": {
            "text/plain": [
              "<Figure size 1152x1152 with 0 Axes>"
            ]
          },
          "metadata": {}
        }
      ]
    },
    {
      "cell_type": "code",
      "metadata": {
        "id": "IvaNCN1ICqPK"
      },
      "source": [
        "import cv2\n",
        "import numpy as np\n",
        "\n",
        "# Gather data train\n",
        "train_data = []\n",
        "train_label = []\n",
        "for r, d, f in os.walk(train_dir):\n",
        "    for file in f:\n",
        "        if \".jpg\" in file:\n",
        "            imagePath = os.path.join(r, file)\n",
        "            image = cv2.imread(imagePath)\n",
        "            image = cv2.resize(image, (150,150))\n",
        "            train_data.append(image)\n",
        "            label = imagePath.split(os.path.sep)[-2]\n",
        "            train_label.append(label)\n",
        "\n",
        "train_data = np.array(train_data)\n",
        "train_label = np.array(train_label)"
      ],
      "execution_count": null,
      "outputs": []
    },
    {
      "cell_type": "code",
      "metadata": {
        "id": "xytwR-S4Crro"
      },
      "source": [
        "# Gather data validation\n",
        "val_data = []\n",
        "val_label = []\n",
        "for r, d, f in os.walk(validation_dir):\n",
        "    for file in f:\n",
        "        if \".jpg\" in file:\n",
        "            imagePath = os.path.join(r, file)\n",
        "            image = cv2.imread(imagePath)\n",
        "            image = cv2.resize(image, (150,150))\n",
        "            val_data.append(image)\n",
        "            label = imagePath.split(os.path.sep)[-2]\n",
        "            val_label.append(label)\n",
        "\n",
        "val_data = np.array(val_data)\n",
        "val_label = np.array(val_label)"
      ],
      "execution_count": null,
      "outputs": []
    },
    {
      "cell_type": "markdown",
      "metadata": {
        "id": "ZRI9ZP2UCvGD"
      },
      "source": [
        "<h3>Data Preprocessing</h3>"
      ]
    },
    {
      "cell_type": "code",
      "metadata": {
        "colab": {
          "base_uri": "https://localhost:8080/"
        },
        "id": "kCEZIMVnCsFK",
        "outputId": "fa287df2-1d20-4242-d0e0-dc560d699369"
      },
      "source": [
        "# Tampilkan shape dari data train dan data validation\n",
        "print(\"Train Data = \", train_data.shape)\n",
        "print(\"Train Label = \", train_label.shape)\n",
        "print(\"Validation Data = \", val_data.shape)\n",
        "print(\"Validation Label = \", val_label.shape)"
      ],
      "execution_count": null,
      "outputs": [
        {
          "output_type": "stream",
          "name": "stdout",
          "text": [
            "Train Data =  (41, 150, 150, 3)\n",
            "Train Label =  (41,)\n",
            "Validation Data =  (41, 150, 150, 3)\n",
            "Validation Label =  (41,)\n"
          ]
        }
      ]
    },
    {
      "cell_type": "code",
      "metadata": {
        "colab": {
          "base_uri": "https://localhost:8080/"
        },
        "id": "xxbZge_GCxtE",
        "outputId": "4995986b-2804-4a02-fce5-9d2938324780"
      },
      "source": [
        "# Normalisasi dataset\n",
        "print(\"Data sebelum di-normalisasi \", train_data[0][0][0])\n",
        "\n",
        "x_train = train_data.astype('float32') / 255.0\n",
        "x_val = val_data.astype('float32') / 255.0\n",
        "print(\"Data setelah di-normalisasi \", x_train[0][0][0])"
      ],
      "execution_count": null,
      "outputs": [
        {
          "output_type": "stream",
          "name": "stdout",
          "text": [
            "Data sebelum di-normalisasi  [80 72 68]\n",
            "Data setelah di-normalisasi  [0.3137255  0.28235295 0.26666668]\n"
          ]
        }
      ]
    },
    {
      "cell_type": "code",
      "metadata": {
        "colab": {
          "base_uri": "https://localhost:8080/"
        },
        "id": "TVP7wbecC1AO",
        "outputId": "ac576465-16df-4973-849c-374883ebebe9"
      },
      "source": [
        "# Transformasi label encoder\n",
        "from sklearn.preprocessing import LabelEncoder\n",
        "\n",
        "print(\"Label sebelum di-encoder \", train_label[995:1005])\n",
        "\n",
        "lb = LabelEncoder()\n",
        "y_train = lb.fit_transform(train_label)\n",
        "y_val = lb.fit_transform(val_label)\n",
        "\n",
        "print(\"Label setelah di-encoder \", y_train[995:1005])"
      ],
      "execution_count": null,
      "outputs": [
        {
          "output_type": "stream",
          "name": "stdout",
          "text": [
            "Label sebelum di-encoder  []\n",
            "Label setelah di-encoder  []\n"
          ]
        }
      ]
    },
    {
      "cell_type": "markdown",
      "metadata": {
        "id": "YLD6FXIKC35_"
      },
      "source": [
        "<h3>Definisikan Model</h3>"
      ]
    },
    {
      "cell_type": "code",
      "metadata": {
        "id": "-IpFwrdNC5Sx"
      },
      "source": [
        "from tensorflow.keras import layers\n",
        "from tensorflow.keras import Model"
      ],
      "execution_count": null,
      "outputs": []
    },
    {
      "cell_type": "code",
      "metadata": {
        "id": "ukf5Oh1cC7QH"
      },
      "source": [
        "# Buat model dengan 1 input layer, 1 hidden layer, dan 1 output layer\n",
        "img_input = layers.Input(shape=(150, 150, 3)) # layer input\n",
        "x = layers.Flatten()(img_input) # ubah dari matriks 150x150x3 menjadi vektor\n",
        "x = layers.Dense(128, activation='relu')(x) # hidden layer 1 dengan 128 neuron\n",
        "output = layers.Dense(1, activation='sigmoid')(x) # output layer dengan 1 neuron (binary)\n",
        "\n",
        "# Definisikan modelnya\n",
        "model = Model(img_input, output)"
      ],
      "execution_count": null,
      "outputs": []
    },
    {
      "cell_type": "code",
      "metadata": {
        "colab": {
          "base_uri": "https://localhost:8080/"
        },
        "id": "hWPPCl28C8iJ",
        "outputId": "4707e755-1cce-4b3d-9356-16c5afc14292"
      },
      "source": [
        "# Tampilkan model summary\n",
        "model.summary()"
      ],
      "execution_count": null,
      "outputs": [
        {
          "output_type": "stream",
          "name": "stdout",
          "text": [
            "Model: \"model\"\n",
            "_________________________________________________________________\n",
            " Layer (type)                Output Shape              Param #   \n",
            "=================================================================\n",
            " input_1 (InputLayer)        [(None, 150, 150, 3)]     0         \n",
            "                                                                 \n",
            " flatten (Flatten)           (None, 67500)             0         \n",
            "                                                                 \n",
            " dense (Dense)               (None, 128)               8640128   \n",
            "                                                                 \n",
            " dense_1 (Dense)             (None, 1)                 129       \n",
            "                                                                 \n",
            "=================================================================\n",
            "Total params: 8,640,257\n",
            "Trainable params: 8,640,257\n",
            "Non-trainable params: 0\n",
            "_________________________________________________________________\n"
          ]
        }
      ]
    },
    {
      "cell_type": "code",
      "metadata": {
        "colab": {
          "base_uri": "https://localhost:8080/"
        },
        "id": "TD_IAMQnC_ih",
        "outputId": "9266b116-4ddb-4c02-9c84-a08af9d7e2dd"
      },
      "source": [
        "from tensorflow.keras.optimizers import Adam\n",
        "\n",
        "# Compile model\n",
        "model.compile(loss='binary_crossentropy',\n",
        "              optimizer=Adam(lr=0.001),\n",
        "              metrics=['acc'])"
      ],
      "execution_count": null,
      "outputs": [
        {
          "output_type": "stream",
          "name": "stderr",
          "text": [
            "/usr/local/lib/python3.7/dist-packages/keras/optimizer_v2/adam.py:105: UserWarning: The `lr` argument is deprecated, use `learning_rate` instead.\n",
            "  super(Adam, self).__init__(name, **kwargs)\n"
          ]
        }
      ]
    },
    {
      "cell_type": "code",
      "metadata": {
        "colab": {
          "base_uri": "https://localhost:8080/"
        },
        "id": "_BTSpUVlDAH0",
        "outputId": "10086cdd-63bd-4392-c7cd-51be035451b7"
      },
      "source": [
        "H = model.fit(x_train, y_train, batch_size=20, epochs=50, validation_data=(x_val, y_val))"
      ],
      "execution_count": null,
      "outputs": [
        {
          "output_type": "stream",
          "name": "stdout",
          "text": [
            "Epoch 1/50\n",
            "3/3 [==============================] - 1s 150ms/step - loss: 27.1796 - acc: 0.4390 - val_loss: 3.1947 - val_acc: 0.5122\n",
            "Epoch 2/50\n",
            "3/3 [==============================] - 0s 71ms/step - loss: 2.5561 - acc: 0.4634 - val_loss: 11.7792 - val_acc: 0.5122\n",
            "Epoch 3/50\n",
            "3/3 [==============================] - 0s 70ms/step - loss: 7.9600 - acc: 0.6098 - val_loss: 18.4528 - val_acc: 0.5122\n",
            "Epoch 4/50\n",
            "3/3 [==============================] - 0s 71ms/step - loss: 18.6176 - acc: 0.5122 - val_loss: 9.5616 - val_acc: 0.5122\n",
            "Epoch 5/50\n",
            "3/3 [==============================] - 0s 71ms/step - loss: 16.4749 - acc: 0.5122 - val_loss: 20.6623 - val_acc: 0.5122\n",
            "Epoch 6/50\n",
            "3/3 [==============================] - 0s 69ms/step - loss: 15.8111 - acc: 0.5122 - val_loss: 4.2334 - val_acc: 0.6098\n",
            "Epoch 7/50\n",
            "3/3 [==============================] - 0s 71ms/step - loss: 6.6622 - acc: 0.5854 - val_loss: 0.1478 - val_acc: 0.9512\n",
            "Epoch 8/50\n",
            "3/3 [==============================] - 0s 70ms/step - loss: 3.1275 - acc: 0.7317 - val_loss: 14.8520 - val_acc: 0.5122\n",
            "Epoch 9/50\n",
            "3/3 [==============================] - 0s 71ms/step - loss: 12.6894 - acc: 0.5366 - val_loss: 0.0773 - val_acc: 0.9512\n",
            "Epoch 10/50\n",
            "3/3 [==============================] - 0s 76ms/step - loss: 0.5283 - acc: 0.9268 - val_loss: 0.5402 - val_acc: 0.9512\n",
            "Epoch 11/50\n",
            "3/3 [==============================] - 0s 73ms/step - loss: 0.0463 - acc: 0.9756 - val_loss: 6.9944 - val_acc: 0.6341\n",
            "Epoch 12/50\n",
            "3/3 [==============================] - 0s 80ms/step - loss: 8.2717 - acc: 0.6098 - val_loss: 0.2662 - val_acc: 0.9512\n",
            "Epoch 13/50\n",
            "3/3 [==============================] - 0s 69ms/step - loss: 2.8973 - acc: 0.8537 - val_loss: 16.3897 - val_acc: 0.5854\n",
            "Epoch 14/50\n",
            "3/3 [==============================] - 0s 70ms/step - loss: 17.6613 - acc: 0.5854 - val_loss: 8.4575 - val_acc: 0.6829\n",
            "Epoch 15/50\n",
            "3/3 [==============================] - 0s 72ms/step - loss: 6.0162 - acc: 0.7317 - val_loss: 0.2162 - val_acc: 0.9756\n",
            "Epoch 16/50\n",
            "3/3 [==============================] - 0s 72ms/step - loss: 1.9597 - acc: 0.8780 - val_loss: 9.6700 - val_acc: 0.5854\n",
            "Epoch 17/50\n",
            "3/3 [==============================] - 0s 79ms/step - loss: 8.1109 - acc: 0.6098 - val_loss: 0.2529 - val_acc: 0.9512\n",
            "Epoch 18/50\n",
            "3/3 [==============================] - 0s 70ms/step - loss: 0.3214 - acc: 0.9512 - val_loss: 0.9516 - val_acc: 0.9512\n",
            "Epoch 19/50\n",
            "3/3 [==============================] - 0s 71ms/step - loss: 1.4841 - acc: 0.9268 - val_loss: 2.4808 - val_acc: 0.8537\n",
            "Epoch 20/50\n",
            "3/3 [==============================] - 0s 73ms/step - loss: 2.3168 - acc: 0.8537 - val_loss: 0.9450 - val_acc: 0.9512\n",
            "Epoch 21/50\n",
            "3/3 [==============================] - 0s 72ms/step - loss: 0.7952 - acc: 0.9512 - val_loss: 0.0750 - val_acc: 0.9756\n",
            "Epoch 22/50\n",
            "3/3 [==============================] - 0s 69ms/step - loss: 0.1853 - acc: 0.9512 - val_loss: 0.3599 - val_acc: 0.9756\n",
            "Epoch 23/50\n",
            "3/3 [==============================] - 0s 73ms/step - loss: 0.4062 - acc: 0.9512 - val_loss: 0.5613 - val_acc: 0.9268\n",
            "Epoch 24/50\n",
            "3/3 [==============================] - 0s 70ms/step - loss: 0.5086 - acc: 0.9268 - val_loss: 0.2504 - val_acc: 0.9756\n",
            "Epoch 25/50\n",
            "3/3 [==============================] - 0s 70ms/step - loss: 0.2503 - acc: 0.9756 - val_loss: 0.0730 - val_acc: 0.9756\n",
            "Epoch 26/50\n",
            "3/3 [==============================] - 0s 70ms/step - loss: 0.1578 - acc: 0.9756 - val_loss: 0.2235 - val_acc: 0.9756\n",
            "Epoch 27/50\n",
            "3/3 [==============================] - 0s 69ms/step - loss: 0.2518 - acc: 0.9756 - val_loss: 0.2137 - val_acc: 0.9756\n",
            "Epoch 28/50\n",
            "3/3 [==============================] - 0s 73ms/step - loss: 0.2137 - acc: 0.9756 - val_loss: 0.0509 - val_acc: 0.9756\n",
            "Epoch 29/50\n",
            "3/3 [==============================] - 0s 72ms/step - loss: 0.0943 - acc: 0.9512 - val_loss: 0.1160 - val_acc: 0.9756\n",
            "Epoch 30/50\n",
            "3/3 [==============================] - 0s 69ms/step - loss: 0.1160 - acc: 0.9756 - val_loss: 0.0745 - val_acc: 0.9756\n",
            "Epoch 31/50\n",
            "3/3 [==============================] - 0s 70ms/step - loss: 0.0656 - acc: 0.9756 - val_loss: 0.0489 - val_acc: 0.9756\n",
            "Epoch 32/50\n",
            "3/3 [==============================] - 0s 69ms/step - loss: 0.0485 - acc: 0.9756 - val_loss: 0.0653 - val_acc: 0.9756\n",
            "Epoch 33/50\n",
            "3/3 [==============================] - 0s 76ms/step - loss: 0.0653 - acc: 0.9756 - val_loss: 0.0445 - val_acc: 0.9756\n",
            "Epoch 34/50\n",
            "3/3 [==============================] - 0s 73ms/step - loss: 0.0445 - acc: 0.9756 - val_loss: 0.0382 - val_acc: 0.9756\n",
            "Epoch 35/50\n",
            "3/3 [==============================] - 0s 68ms/step - loss: 0.0577 - acc: 0.9512 - val_loss: 0.0376 - val_acc: 0.9756\n",
            "Epoch 36/50\n",
            "3/3 [==============================] - 0s 70ms/step - loss: 0.0502 - acc: 0.9756 - val_loss: 0.0369 - val_acc: 0.9756\n",
            "Epoch 37/50\n",
            "3/3 [==============================] - 0s 71ms/step - loss: 0.0419 - acc: 0.9756 - val_loss: 0.0418 - val_acc: 0.9756\n",
            "Epoch 38/50\n",
            "3/3 [==============================] - 0s 74ms/step - loss: 0.0418 - acc: 0.9756 - val_loss: 0.0383 - val_acc: 0.9756\n",
            "Epoch 39/50\n",
            "3/3 [==============================] - 0s 69ms/step - loss: 0.0624 - acc: 0.9756 - val_loss: 0.0346 - val_acc: 0.9756\n",
            "Epoch 40/50\n",
            "3/3 [==============================] - 0s 70ms/step - loss: 0.0678 - acc: 0.9512 - val_loss: 0.0482 - val_acc: 0.9756\n",
            "Epoch 41/50\n",
            "3/3 [==============================] - 0s 77ms/step - loss: 0.0990 - acc: 0.9512 - val_loss: 1.0950 - val_acc: 0.9268\n",
            "Epoch 42/50\n",
            "3/3 [==============================] - 0s 71ms/step - loss: 2.3252 - acc: 0.8293 - val_loss: 12.8391 - val_acc: 0.5366\n",
            "Epoch 43/50\n",
            "3/3 [==============================] - 0s 71ms/step - loss: 9.3561 - acc: 0.6098 - val_loss: 1.3876 - val_acc: 0.9756\n",
            "Epoch 44/50\n",
            "3/3 [==============================] - 0s 69ms/step - loss: 1.6026 - acc: 0.9268 - val_loss: 6.9872 - val_acc: 0.7073\n",
            "Epoch 45/50\n",
            "3/3 [==============================] - 0s 73ms/step - loss: 7.3055 - acc: 0.6829 - val_loss: 2.6121 - val_acc: 0.8780\n",
            "Epoch 46/50\n",
            "3/3 [==============================] - 0s 71ms/step - loss: 2.0136 - acc: 0.8780 - val_loss: 2.0274 - val_acc: 0.9756\n",
            "Epoch 47/50\n",
            "3/3 [==============================] - 0s 72ms/step - loss: 2.0274 - acc: 0.9756 - val_loss: 3.1501 - val_acc: 0.8780\n",
            "Epoch 48/50\n",
            "3/3 [==============================] - 0s 72ms/step - loss: 3.5937 - acc: 0.8537 - val_loss: 1.5476 - val_acc: 0.9756\n",
            "Epoch 49/50\n",
            "3/3 [==============================] - 0s 77ms/step - loss: 2.3993 - acc: 0.9512 - val_loss: 42.4505 - val_acc: 0.5122\n",
            "Epoch 50/50\n",
            "3/3 [==============================] - 0s 70ms/step - loss: 45.5013 - acc: 0.5122 - val_loss: 39.3801 - val_acc: 0.5122\n"
          ]
        }
      ]
    },
    {
      "cell_type": "markdown",
      "metadata": {
        "id": "FEWlFuCbDFEV"
      },
      "source": [
        "<h3>Evaluasi Model</h3>"
      ]
    },
    {
      "cell_type": "code",
      "metadata": {
        "colab": {
          "base_uri": "https://localhost:8080/",
          "height": 299
        },
        "id": "fLJK8najDB8a",
        "outputId": "33d87897-6b4e-4e9c-a92d-c5e0d3e38fdd"
      },
      "source": [
        "plt.style.use(\"ggplot\")\n",
        "plt.figure()\n",
        "plt.plot(np.arange(0, 50), H.history[\"loss\"], label=\"train_loss\")\n",
        "plt.plot(np.arange(0, 50), H.history[\"val_loss\"], label=\"val_loss\")\n",
        "plt.title(\"Loss Plot\")\n",
        "plt.xlabel(\"Epoch #\")\n",
        "plt.ylabel(\"Loss\")\n",
        "plt.legend()\n",
        "plt.show()"
      ],
      "execution_count": null,
      "outputs": [
        {
          "output_type": "display_data",
          "data": {
            "image/png": "[encoded data removed]",
            "text/plain": [
              "<Figure size 432x288 with 1 Axes>"
            ]
          },
          "metadata": {}
        }
      ]
    },
    {
      "cell_type": "code",
      "metadata": {
        "colab": {
          "base_uri": "https://localhost:8080/",
          "height": 299
        },
        "id": "30FcTwEWDHTO",
        "outputId": "b1e4411b-1964-4381-ad90-aa447b5e78cc"
      },
      "source": [
        "plt.style.use(\"ggplot\")\n",
        "plt.figure()\n",
        "plt.plot(np.arange(0, 50), H.history[\"acc\"], label=\"train_acc\")\n",
        "plt.plot(np.arange(0, 50), H.history[\"val_acc\"], label=\"val_acc\")\n",
        "plt.title(\"Accuracy Plot\")\n",
        "plt.xlabel(\"Epoch #\")\n",
        "plt.ylabel(\"Acc\")\n",
        "plt.legend()\n",
        "plt.show()"
      ],
      "execution_count": null,
      "outputs": [
        {
          "output_type": "display_data",
          "data": {
            "image/png": "[encoded data removed]",
            "text/plain": [
              "<Figure size 432x288 with 1 Axes>"
            ]
          },
          "metadata": {}
        }
      ]
    },
    {
      "cell_type": "code",
      "metadata": {
        "colab": {
          "base_uri": "https://localhost:8080/"
        },
        "id": "N848L5hGDJ1K",
        "outputId": "23458a66-ce05-45c8-d555-d7d825834baa"
      },
      "source": [
        "from sklearn.metrics import classification_report\n",
        "\n",
        "pred = model.predict(x_val)\n",
        "labels = (pred > 0.5).astype(np.int)\n",
        "\n",
        "print(classification_report(y_val, labels))"
      ],
      "execution_count": null,
      "outputs": [
        {
          "output_type": "stream",
          "name": "stdout",
          "text": [
            "              precision    recall  f1-score   support\n",
            "\n",
            "           0       1.00      0.05      0.09        21\n",
            "           1       0.50      1.00      0.67        20\n",
            "\n",
            "    accuracy                           0.51        41\n",
            "   macro avg       0.75      0.52      0.38        41\n",
            "weighted avg       0.76      0.51      0.37        41\n",
            "\n"
          ]
        }
      ]
    }
  ]
}